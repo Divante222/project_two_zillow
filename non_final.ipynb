{
 "cells": [
  {
   "cell_type": "code",
   "execution_count": 1,
   "id": "844c43fc",
   "metadata": {},
   "outputs": [],
   "source": [
    "import pandas as pd\n",
    "import numpy as np\n",
    "import env\n",
    "import matplotlib.pyplot as plt\n",
    "import seaborn as sns\n",
    "import os\n",
    "from scipy import stats\n",
    "from sklearn.model_selection import train_test_split\n",
    "from sklearn.impute import SimpleImputer\n",
    "from sklearn.preprocessing import MinMaxScaler\n",
    "from sklearn.preprocessing import RobustScaler\n",
    "from sklearn.preprocessing import StandardScaler\n",
    "from sklearn.preprocessing import QuantileTransformer\n",
    "from sklearn.linear_model import LinearRegression\n",
    "from sklearn.feature_selection import SelectKBest, RFE, f_regression, SequentialFeatureSelector\n",
    "from sklearn.metrics import mean_squared_error\n",
    "from sklearn.metrics import r2_score\n",
    "from sklearn.linear_model import LassoLars\n",
    "from sklearn.preprocessing import PolynomialFeatures\n",
    "from sklearn.linear_model import TweedieRegressor\n",
    "import wrangle"
   ]
  },
  {
   "cell_type": "code",
   "execution_count": 2,
   "id": "102c7214",
   "metadata": {},
   "outputs": [],
   "source": [
    "# df = wrangle.get_zillow_data()"
   ]
  },
  {
   "cell_type": "code",
   "execution_count": 3,
   "id": "1f331f45",
   "metadata": {},
   "outputs": [],
   "source": [
    "df = pd.read_csv('zillow_data.csv')"
   ]
  },
  {
   "cell_type": "code",
   "execution_count": 4,
   "id": "8e755521",
   "metadata": {},
   "outputs": [],
   "source": [
    "df = wrangle.preparing_data_zillow(df)"
   ]
  },
  {
   "cell_type": "code",
   "execution_count": 8,
   "id": "0f8880be",
   "metadata": {},
   "outputs": [
    {
     "data": {
      "text/plain": [
       "6037    35336\n",
       "6059    13093\n",
       "6111     4602\n",
       "Name: fips, dtype: int64"
      ]
     },
     "execution_count": 8,
     "metadata": {},
     "output_type": "execute_result"
    }
   ],
   "source": [
    "df.fips.value_counts()\n",
    "# 6037 los angeles\n",
    "# 6059 orange county\n",
    "# 6111 Ventura county"
   ]
  },
  {
   "cell_type": "code",
   "execution_count": null,
   "id": "b3712f68",
   "metadata": {},
   "outputs": [],
   "source": [
    "# X_train_scaled = pd.DataFrame()\n",
    "# for i in range(len(X_train_columns)):\n",
    "#     X_train_scaled[X_train_columns[i]] = X_train_numbers[i]\n",
    "    \n",
    "# X_validate_scaled = pd.DataFrame()\n",
    "# for i in range(len(X_validate_columns)):\n",
    "#     X_validate_scaled[X_validate_columns[i]] = X_validade_numbers[i]\n",
    "    \n",
    "# X_test_scaled = pd.DataFrame()\n",
    "# for i in range(len(X_test_numbers)):\n",
    "#     X_test_scaled[X_test_numbers[i]] = X_test_numbers[i]\n",
    "\n",
    "# X_validate_scaled\n"
   ]
  }
 ],
 "metadata": {
  "kernelspec": {
   "display_name": "Python 3 (ipykernel)",
   "language": "python",
   "name": "python3"
  },
  "language_info": {
   "codemirror_mode": {
    "name": "ipython",
    "version": 3
   },
   "file_extension": ".py",
   "mimetype": "text/x-python",
   "name": "python",
   "nbconvert_exporter": "python",
   "pygments_lexer": "ipython3",
   "version": "3.9.16"
  }
 },
 "nbformat": 4,
 "nbformat_minor": 5
}
