{
 "cells": [
  {
   "cell_type": "markdown",
   "id": "5dfc1fa0",
   "metadata": {},
   "source": [
    "# Zillow Tax Assessed Values"
   ]
  },
  {
   "cell_type": "markdown",
   "id": "cf0d7e04",
   "metadata": {},
   "source": [
    "# Goal \n",
    "\n",
    "- To create a model capable of predicting future Tax Assessed Values by at least 50%\n",
    "- To explore the data\n",
    "- To create a model better than baseline"
   ]
  },
  {
   "cell_type": "markdown",
   "id": "f39b51be",
   "metadata": {},
   "source": [
    "# Imports"
   ]
  },
  {
   "cell_type": "code",
   "execution_count": 1,
   "id": "676eab68",
   "metadata": {},
   "outputs": [],
   "source": [
    "import pandas as pd\n",
    "import numpy as np\n",
    "import env\n",
    "import matplotlib.pyplot as plt\n",
    "import seaborn as sns\n",
    "import os\n",
    "from scipy import stats\n",
    "from sklearn.model_selection import train_test_split\n",
    "from sklearn.impute import SimpleImputer\n",
    "from sklearn.preprocessing import MinMaxScaler\n",
    "from sklearn.preprocessing import RobustScaler\n",
    "from sklearn.preprocessing import StandardScaler\n",
    "from sklearn.preprocessing import QuantileTransformer\n",
    "from sklearn.linear_model import LinearRegression\n",
    "from sklearn.feature_selection import SelectKBest, RFE, f_regression, SequentialFeatureSelector\n",
    "from sklearn.metrics import mean_squared_error\n",
    "from sklearn.metrics import r2_score\n",
    "from sklearn.linear_model import LassoLars\n",
    "from sklearn.preprocessing import PolynomialFeatures\n",
    "from sklearn.linear_model import TweedieRegressor\n",
    "import wrangle\n",
    "import warnings\n",
    "warnings.filterwarnings(\"ignore\")\n",
    "import scipy.stats as stats"
   ]
  },
  {
   "cell_type": "markdown",
   "id": "b5dadaa7",
   "metadata": {},
   "source": [
    "# Acquire\n",
    "- Data acquiured from SQL database\n",
    "- it contained 53031 rows and 6 columns\n",
    "- Each row represents a single family home\n",
    "- Each column represents a catagory of data"
   ]
  },
  {
   "cell_type": "markdown",
   "id": "622520ce",
   "metadata": {},
   "source": [
    "# Prepare\n",
    "- checked that the column datatypes were appropriate\n",
    "- droped the unnamed: 0 column\n",
    "- created a boolean mask to find calculated square feet values under 25000\n",
    "- cut the top 5% of taxvaluedollar count\n",
    "- dropped the na values\n",
    "- converted calculatedfinishedsquarefeet, fips and yearbuilt to int's\n",
    "- Split data into train, validate and test (approx. 60/20/20)"
   ]
  },
  {
   "cell_type": "code",
   "execution_count": 2,
   "id": "b826d2c3",
   "metadata": {},
   "outputs": [],
   "source": [
    "# getting my data and dropping the fips row\n",
    "df = pd.read_csv('zillow_data.csv')\n",
    "df = wrangle.preparing_data_zillow(df)\n",
    "df = df.drop(columns ='fips')"
   ]
  },
  {
   "cell_type": "code",
   "execution_count": 3,
   "id": "409f9c53",
   "metadata": {},
   "outputs": [],
   "source": [
    "# split my data into train , validate, test\n",
    "train, validate, test = wrangle.split_data(df, 'taxvaluedollarcnt')"
   ]
  },
  {
   "cell_type": "code",
   "execution_count": 4,
   "id": "9dc3582b",
   "metadata": {},
   "outputs": [],
   "source": [
    "# split my data into different catagories\n",
    "X_train, X_validate, X_test, y_train, y_validate, y_test = wrangle.get_X_train_val_test(train, validate, test,'taxvaluedollarcnt', 'taxvaluedollarcnt' )"
   ]
  },
  {
   "cell_type": "markdown",
   "id": "dba8e535",
   "metadata": {},
   "source": [
    "# A brief look at the data"
   ]
  },
  {
   "cell_type": "code",
   "execution_count": 5,
   "id": "9f6e3a19",
   "metadata": {},
   "outputs": [
    {
     "data": {
      "text/html": [
       "<div>\n",
       "<style scoped>\n",
       "    .dataframe tbody tr th:only-of-type {\n",
       "        vertical-align: middle;\n",
       "    }\n",
       "\n",
       "    .dataframe tbody tr th {\n",
       "        vertical-align: top;\n",
       "    }\n",
       "\n",
       "    .dataframe thead th {\n",
       "        text-align: right;\n",
       "    }\n",
       "</style>\n",
       "<table border=\"1\" class=\"dataframe\">\n",
       "  <thead>\n",
       "    <tr style=\"text-align: right;\">\n",
       "      <th></th>\n",
       "      <th>taxvaluedollarcnt</th>\n",
       "      <th>calculatedfinishedsquarefeet</th>\n",
       "      <th>bedroomcnt</th>\n",
       "      <th>bathroomcnt</th>\n",
       "      <th>yearbuilt</th>\n",
       "    </tr>\n",
       "  </thead>\n",
       "  <tbody>\n",
       "    <tr>\n",
       "      <th>32389</th>\n",
       "      <td>840605.0</td>\n",
       "      <td>3906</td>\n",
       "      <td>3.0</td>\n",
       "      <td>3.0</td>\n",
       "      <td>1992</td>\n",
       "    </tr>\n",
       "    <tr>\n",
       "      <th>18606</th>\n",
       "      <td>600000.0</td>\n",
       "      <td>1480</td>\n",
       "      <td>4.0</td>\n",
       "      <td>3.0</td>\n",
       "      <td>1985</td>\n",
       "    </tr>\n",
       "    <tr>\n",
       "      <th>42069</th>\n",
       "      <td>305060.0</td>\n",
       "      <td>1644</td>\n",
       "      <td>4.0</td>\n",
       "      <td>2.0</td>\n",
       "      <td>1962</td>\n",
       "    </tr>\n",
       "    <tr>\n",
       "      <th>43726</th>\n",
       "      <td>348094.0</td>\n",
       "      <td>900</td>\n",
       "      <td>3.0</td>\n",
       "      <td>1.0</td>\n",
       "      <td>1953</td>\n",
       "    </tr>\n",
       "    <tr>\n",
       "      <th>52530</th>\n",
       "      <td>297838.0</td>\n",
       "      <td>1338</td>\n",
       "      <td>3.0</td>\n",
       "      <td>3.0</td>\n",
       "      <td>1977</td>\n",
       "    </tr>\n",
       "  </tbody>\n",
       "</table>\n",
       "</div>"
      ],
      "text/plain": [
       "       taxvaluedollarcnt  calculatedfinishedsquarefeet  bedroomcnt  \\\n",
       "32389           840605.0                          3906         3.0   \n",
       "18606           600000.0                          1480         4.0   \n",
       "42069           305060.0                          1644         4.0   \n",
       "43726           348094.0                           900         3.0   \n",
       "52530           297838.0                          1338         3.0   \n",
       "\n",
       "       bathroomcnt  yearbuilt  \n",
       "32389          3.0       1992  \n",
       "18606          3.0       1985  \n",
       "42069          2.0       1962  \n",
       "43726          1.0       1953  \n",
       "52530          3.0       1977  "
      ]
     },
     "execution_count": 5,
     "metadata": {},
     "output_type": "execute_result"
    }
   ],
   "source": [
    "# looking at the training data\n",
    "train.head()"
   ]
  },
  {
   "cell_type": "code",
   "execution_count": 26,
   "id": "f115c1d3",
   "metadata": {},
   "outputs": [
    {
     "data": {
      "image/png": "[encoded data removed]",
      "text/plain": [
       "<Figure size 640x480 with 1 Axes>"
      ]
     },
     "metadata": {},
     "output_type": "display_data"
    }
   ],
   "source": [
    "# created a histplot to visualize the target variable\n",
    "sns.histplot(train.taxvaluedollarcnt)\n",
    "plt.show()"
   ]
  },
  {
   "cell_type": "markdown",
   "id": "8784c848",
   "metadata": {},
   "source": [
    "# A summary of the data"
   ]
  },
  {
   "cell_type": "code",
   "execution_count": 6,
   "id": "92f4147b",
   "metadata": {},
   "outputs": [
    {
     "data": {
      "text/html": [
       "<div>\n",
       "<style scoped>\n",
       "    .dataframe tbody tr th:only-of-type {\n",
       "        vertical-align: middle;\n",
       "    }\n",
       "\n",
       "    .dataframe tbody tr th {\n",
       "        vertical-align: top;\n",
       "    }\n",
       "\n",
       "    .dataframe thead th {\n",
       "        text-align: right;\n",
       "    }\n",
       "</style>\n",
       "<table border=\"1\" class=\"dataframe\">\n",
       "  <thead>\n",
       "    <tr style=\"text-align: right;\">\n",
       "      <th></th>\n",
       "      <th>taxvaluedollarcnt</th>\n",
       "      <th>calculatedfinishedsquarefeet</th>\n",
       "      <th>bedroomcnt</th>\n",
       "      <th>bathroomcnt</th>\n",
       "      <th>yearbuilt</th>\n",
       "    </tr>\n",
       "  </thead>\n",
       "  <tbody>\n",
       "    <tr>\n",
       "      <th>count</th>\n",
       "      <td>3.181500e+04</td>\n",
       "      <td>31815.000000</td>\n",
       "      <td>31815.000000</td>\n",
       "      <td>31815.000000</td>\n",
       "      <td>31815.000000</td>\n",
       "    </tr>\n",
       "    <tr>\n",
       "      <th>mean</th>\n",
       "      <td>3.634415e+05</td>\n",
       "      <td>1753.039887</td>\n",
       "      <td>3.251485</td>\n",
       "      <td>2.144067</td>\n",
       "      <td>1960.357410</td>\n",
       "    </tr>\n",
       "    <tr>\n",
       "      <th>std</th>\n",
       "      <td>2.450244e+05</td>\n",
       "      <td>715.738889</td>\n",
       "      <td>0.899468</td>\n",
       "      <td>0.834273</td>\n",
       "      <td>21.388712</td>\n",
       "    </tr>\n",
       "    <tr>\n",
       "      <th>min</th>\n",
       "      <td>9.000000e+00</td>\n",
       "      <td>160.000000</td>\n",
       "      <td>0.000000</td>\n",
       "      <td>0.000000</td>\n",
       "      <td>1862.000000</td>\n",
       "    </tr>\n",
       "    <tr>\n",
       "      <th>25%</th>\n",
       "      <td>1.795775e+05</td>\n",
       "      <td>1244.000000</td>\n",
       "      <td>3.000000</td>\n",
       "      <td>2.000000</td>\n",
       "      <td>1949.000000</td>\n",
       "    </tr>\n",
       "    <tr>\n",
       "      <th>50%</th>\n",
       "      <td>3.130060e+05</td>\n",
       "      <td>1592.000000</td>\n",
       "      <td>3.000000</td>\n",
       "      <td>2.000000</td>\n",
       "      <td>1958.000000</td>\n",
       "    </tr>\n",
       "    <tr>\n",
       "      <th>75%</th>\n",
       "      <td>4.906805e+05</td>\n",
       "      <td>2112.500000</td>\n",
       "      <td>4.000000</td>\n",
       "      <td>3.000000</td>\n",
       "      <td>1974.000000</td>\n",
       "    </tr>\n",
       "    <tr>\n",
       "      <th>max</th>\n",
       "      <td>1.206527e+06</td>\n",
       "      <td>7648.000000</td>\n",
       "      <td>9.000000</td>\n",
       "      <td>8.000000</td>\n",
       "      <td>2016.000000</td>\n",
       "    </tr>\n",
       "  </tbody>\n",
       "</table>\n",
       "</div>"
      ],
      "text/plain": [
       "       taxvaluedollarcnt  calculatedfinishedsquarefeet    bedroomcnt  \\\n",
       "count       3.181500e+04                  31815.000000  31815.000000   \n",
       "mean        3.634415e+05                   1753.039887      3.251485   \n",
       "std         2.450244e+05                    715.738889      0.899468   \n",
       "min         9.000000e+00                    160.000000      0.000000   \n",
       "25%         1.795775e+05                   1244.000000      3.000000   \n",
       "50%         3.130060e+05                   1592.000000      3.000000   \n",
       "75%         4.906805e+05                   2112.500000      4.000000   \n",
       "max         1.206527e+06                   7648.000000      9.000000   \n",
       "\n",
       "        bathroomcnt     yearbuilt  \n",
       "count  31815.000000  31815.000000  \n",
       "mean       2.144067   1960.357410  \n",
       "std        0.834273     21.388712  \n",
       "min        0.000000   1862.000000  \n",
       "25%        2.000000   1949.000000  \n",
       "50%        2.000000   1958.000000  \n",
       "75%        3.000000   1974.000000  \n",
       "max        8.000000   2016.000000  "
      ]
     },
     "execution_count": 6,
     "metadata": {},
     "output_type": "execute_result"
    }
   ],
   "source": [
    "# describing the training data\n",
    "train.describe()"
   ]
  },
  {
   "cell_type": "markdown",
   "id": "67e6ab65",
   "metadata": {},
   "source": [
    "# Does Tax-value-dollar-count increase over time"
   ]
  },
  {
   "cell_type": "code",
   "execution_count": 7,
   "id": "c48cb8be",
   "metadata": {},
   "outputs": [],
   "source": [
    "# cut year built into bins and updated the values for readability\n",
    "BIN_1949_1958, BIN_1861_1949, BIN_1958_1974, BIN_1974_2016, train = wrangle.over_time(train)"
   ]
  },
  {
   "cell_type": "code",
   "execution_count": 8,
   "id": "3f3fe6a8",
   "metadata": {},
   "outputs": [
    {
     "data": {
      "image/png": "[encoded data removed]",
      "text/plain": [
       "<Figure size 640x480 with 1 Axes>"
      ]
     },
     "metadata": {},
     "output_type": "display_data"
    }
   ],
   "source": [
    "# creating a boxplot to visualize the data\n",
    "sns.boxplot(train, x= train['year_bins'], y =train['taxvaluedollarcnt'], order = ['1861 - 1949','1949 - 1958','1958 - 1974','1974 - 2016']).set(xlabel ='Years', ylabel ='Tax-Value-Dollar-Count')\n",
    "plt.show()"
   ]
  },
  {
   "cell_type": "markdown",
   "id": "ef3226a3",
   "metadata": {},
   "source": [
    "- The average of tax value dollar count has went up over the years\n",
    "\n",
    "<br>\n",
    "- we assume a normal distribution because of the amount of samples being over 500\n",
    "<br>\n",
    "<b>I will now use an anova test to investigate if tax value dollar count has went up over the years.</b>\n",
    "<br>\n",
    "- I will use a confidence interval of 95%\n",
    "- the resulting alpha is .05\n",
    "\n",
    "<b>Ho: The mean of tax value dollar count has not changed over the years</b>\n",
    "\n",
    "<b>Ha: The mean of tax value dollar count has changed over the years</b>"
   ]
  },
  {
   "cell_type": "code",
   "execution_count": 9,
   "id": "0983e572",
   "metadata": {},
   "outputs": [
    {
     "name": "stdout",
     "output_type": "stream",
     "text": [
      "we reject the null hypothesis because 0.0 < alpha\n"
     ]
    }
   ],
   "source": [
    "# ran and anova stats test\n",
    "t, p = stats.f_oneway(BIN_1949_1958.taxvaluedollarcnt, BIN_1861_1949.taxvaluedollarcnt,BIN_1958_1974.taxvaluedollarcnt, BIN_1974_2016.taxvaluedollarcnt)\n",
    "print('we reject the null hypothesis because', p, '< alpha')"
   ]
  },
  {
   "cell_type": "markdown",
   "id": "14a5e77e",
   "metadata": {},
   "source": [
    "# Does number of bedrooms affect tax value dollar count"
   ]
  },
  {
   "cell_type": "code",
   "execution_count": 10,
   "id": "5ca1dfed",
   "metadata": {},
   "outputs": [],
   "source": [
    "# cut bedroomcnt into bins and updated the values for readability\n",
    "BIN_0_2_5, BIN_45675, BIN_22545, BIN_679, train = wrangle.bedrooms_bins(train)"
   ]
  },
  {
   "cell_type": "code",
   "execution_count": 11,
   "id": "a42f8d19",
   "metadata": {},
   "outputs": [
    {
     "data": {
      "image/png": "[encoded data removed]",
      "text/plain": [
       "<Figure size 640x480 with 1 Axes>"
      ]
     },
     "metadata": {},
     "output_type": "display_data"
    }
   ],
   "source": [
    "# creating a boxplot to visualize the data\n",
    "sns.boxplot(train, x= train['bedroom_bins'], y =train['taxvaluedollarcnt'], order = ['0 - 2.25','2.25 - 4.5','4.5 - 6.75','6.75 - 9.0']).set(xlabel ='Bedrooms', ylabel ='Tax-Value-Dollar-Count')\n",
    "plt.show()"
   ]
  },
  {
   "cell_type": "markdown",
   "id": "d0772ee9",
   "metadata": {},
   "source": [
    "- The average of tax value dollar count is higher the more bedrooms a home posseses\n",
    "\n",
    "<br>\n",
    "- we assume a normal distribution because of the amount of samples being over 500\n",
    "<br>\n",
    "<b>I will now use an anova test to investigate if tax value dollar count is higher based on bathrooms.</b>\n",
    "<br>\n",
    "- I will use a confidence interval of 95%\n",
    "- the resulting alpha is .05\n",
    "\n",
    "<b>Ho: The mean of tax value dollar count is the same no matter how many bedrooms a home posseses</b>\n",
    "\n",
    "<b>Ha: The mean of tax value dollar count is different based on number of bedrooms</b>"
   ]
  },
  {
   "cell_type": "code",
   "execution_count": 12,
   "id": "8a85bc4c",
   "metadata": {},
   "outputs": [
    {
     "name": "stdout",
     "output_type": "stream",
     "text": [
      "we reject the null hypothesis because 0.0 < alpha\n"
     ]
    }
   ],
   "source": [
    "# ran an anova stats test\n",
    "t, p = stats.f_oneway(BIN_0_2_5.taxvaluedollarcnt, BIN_22545.taxvaluedollarcnt, BIN_45675.taxvaluedollarcnt, BIN_679.taxvaluedollarcnt)\n",
    "print('we reject the null hypothesis because', p, '< alpha')"
   ]
  },
  {
   "cell_type": "markdown",
   "id": "8b1d0bdf",
   "metadata": {},
   "source": [
    "# Does the Square Feet of the house affect the tax value dollar count"
   ]
  },
  {
   "cell_type": "code",
   "execution_count": 13,
   "id": "5e7fda8d",
   "metadata": {},
   "outputs": [],
   "source": [
    "# cut Square Feet into bins and updated the values for readability\n",
    "size_19999_1242, size_1242_1592, size_1592_2117, size_2117_9200, train = wrangle.square_feet_bins(train)"
   ]
  },
  {
   "cell_type": "code",
   "execution_count": 14,
   "id": "457d26f6",
   "metadata": {},
   "outputs": [
    {
     "data": {
      "image/png": "[encoded data removed]",
      "text/plain": [
       "<Figure size 640x480 with 1 Axes>"
      ]
     },
     "metadata": {},
     "output_type": "display_data"
    }
   ],
   "source": [
    "# creating a boxplot to visualize the data\n",
    "sns.boxplot(train, x= train['size_bins'], y =train['taxvaluedollarcnt'], order = ['160 - 1244','1244 - 1592','1592 - 2112','2112 - 7648']).set(xlabel ='Square Feet', ylabel ='Tax-Value-Dollar-Count')\n",
    "plt.show()"
   ]
  },
  {
   "cell_type": "markdown",
   "id": "a471ab3e",
   "metadata": {},
   "source": [
    "- The average of tax value dollar count is higher the more square feet a home posseses\n",
    "\n",
    "<br>\n",
    "- we assume a normal distribution because of the amount of samples being over 500\n",
    "<br>\n",
    "<b>I will now use an anova test to investigate if tax value dollar count is higher based on squarefeet of the home.</b>\n",
    "<br>\n",
    "- I will use a confidence interval of 95%\n",
    "- the resulting alpha is .05\n",
    "\n",
    "<b>Ho: The mean of tax value dollar count is the same no matter how many square feet a home posseses</b>\n",
    "\n",
    "<b>Ha: The mean of tax value dollar count is different based on the size of the house</b>"
   ]
  },
  {
   "cell_type": "code",
   "execution_count": 15,
   "id": "91736ee6",
   "metadata": {},
   "outputs": [
    {
     "name": "stdout",
     "output_type": "stream",
     "text": [
      "we reject the null hypothesis because 0.0 < alpha\n"
     ]
    }
   ],
   "source": [
    "# ran an anova stats test\n",
    "t, p = stats.f_oneway(size_19999_1242.taxvaluedollarcnt, size_1242_1592.taxvaluedollarcnt, size_1592_2117.taxvaluedollarcnt, size_2117_9200.taxvaluedollarcnt)\n",
    "print('we reject the null hypothesis because', p, '< alpha')"
   ]
  },
  {
   "cell_type": "markdown",
   "id": "e32e6139",
   "metadata": {},
   "source": [
    "# Does bathroom count affect the taxvalue dollar count of a home"
   ]
  },
  {
   "cell_type": "code",
   "execution_count": 17,
   "id": "16759cc7",
   "metadata": {},
   "outputs": [],
   "source": [
    "# cut bathroom count into bins and updated the values for readability\n",
    "bath_0_2, bath_2_4, bath_4_6, bath_6_8, train = wrangle.bathroom_bins(train)"
   ]
  },
  {
   "cell_type": "code",
   "execution_count": 18,
   "id": "d82f03e6",
   "metadata": {},
   "outputs": [
    {
     "data": {
      "image/png": "[encoded data removed]",
      "text/plain": [
       "<Figure size 640x480 with 1 Axes>"
      ]
     },
     "metadata": {},
     "output_type": "display_data"
    }
   ],
   "source": [
    "# creating a boxplot to visualize the data\n",
    "sns.boxplot(train, x= train['bathroom_bins'], y =train['taxvaluedollarcnt'], order = ['0 - 2','2 - 4','4 - 6','6 - 8']).set(xlabel ='Bathrooms', ylabel ='Tax-Value-Dollar-Count')\n",
    "plt.show()"
   ]
  },
  {
   "cell_type": "markdown",
   "id": "310a4b22",
   "metadata": {},
   "source": [
    "- The average of tax value dollar count is higher the more bathrooms a home posseses\n",
    "\n",
    "<br>\n",
    "- we assume a normal distribution because of the amount of samples being over 500\n",
    "<br>\n",
    "<b>I will now use an anova test to investigate if tax value dollar count is higher based on number of bathrooms in a home.</b>\n",
    "<br>\n",
    "- I will use a confidence interval of 95%\n",
    "- the resulting alpha is .05\n",
    "\n",
    "<b>Ho: The mean of tax value dollar count is the same no matter how many bathrooms a home posseses</b>\n",
    "\n",
    "<b>Ha: The mean of tax value dollar count is different based on number of bathrooms in a home</b>"
   ]
  },
  {
   "cell_type": "code",
   "execution_count": 19,
   "id": "a4bf5f42",
   "metadata": {},
   "outputs": [
    {
     "name": "stdout",
     "output_type": "stream",
     "text": [
      "we reject the null hypothesis because 0.0 < alpha\n"
     ]
    }
   ],
   "source": [
    "# ran an anova stats test\n",
    "t, p = stats.f_oneway(bath_0_2.taxvaluedollarcnt, bath_2_4.taxvaluedollarcnt, bath_4_6.taxvaluedollarcnt, bath_6_8.taxvaluedollarcnt)\n",
    "print('we reject the null hypothesis because', p, '< alpha')"
   ]
  },
  {
   "cell_type": "markdown",
   "id": "4e7a02ba",
   "metadata": {},
   "source": [
    "## Exploratory Summary"
   ]
  },
  {
   "cell_type": "markdown",
   "id": "d4f7aa3c",
   "metadata": {},
   "source": [
    "<b>Tax Value Dollar Count was affected by</b>\n",
    "- Calculated square feet \n",
    "- Bathroom count\n",
    "- Bedroom count\n",
    "- Year built"
   ]
  },
  {
   "cell_type": "markdown",
   "id": "6f28af56",
   "metadata": {},
   "source": [
    "## Features I am moving to modeling With"
   ]
  },
  {
   "cell_type": "markdown",
   "id": "533557a7",
   "metadata": {},
   "source": [
    "- Calculated square feet \n",
    "- Bathroom count\n",
    "- Bedroom count\n",
    "- Year built"
   ]
  },
  {
   "cell_type": "markdown",
   "id": "b675b776",
   "metadata": {},
   "source": [
    "## Modeling"
   ]
  },
  {
   "cell_type": "markdown",
   "id": "33bcf6c2",
   "metadata": {},
   "source": [
    "- I will be scaling my data with a robust scaler\n",
    "\n",
    "** I will be evaluating models developed using four different model types and various hyperparameter configurations * Models will be evaluated on train and validate data * The model that performs the best will then be evaluated on test data"
   ]
  },
  {
   "cell_type": "code",
   "execution_count": 20,
   "id": "f1ae963e",
   "metadata": {
    "scrolled": true
   },
   "outputs": [],
   "source": [
    "# scaled my data\n",
    "X_train_scaled, X_validate_scaled, X_test_scaled= wrangle.scaled_data_to_dataframe(X_train, X_validate, X_test)"
   ]
  },
  {
   "cell_type": "code",
   "execution_count": 21,
   "id": "d09a0ac2",
   "metadata": {},
   "outputs": [],
   "source": [
    "# ran my data through the different model types\n",
    "metrics_train_df, metrics_validate_df, metrics_test_df = wrangle.get_model_numbers(X_train_scaled, X_validate_scaled, X_test_scaled, y_train, y_validate, y_test)"
   ]
  },
  {
   "cell_type": "code",
   "execution_count": 22,
   "id": "c3499b4b",
   "metadata": {},
   "outputs": [
    {
     "data": {
      "text/html": [
       "<div>\n",
       "<style scoped>\n",
       "    .dataframe tbody tr th:only-of-type {\n",
       "        vertical-align: middle;\n",
       "    }\n",
       "\n",
       "    .dataframe tbody tr th {\n",
       "        vertical-align: top;\n",
       "    }\n",
       "\n",
       "    .dataframe thead th {\n",
       "        text-align: right;\n",
       "    }\n",
       "</style>\n",
       "<table border=\"1\" class=\"dataframe\">\n",
       "  <thead>\n",
       "    <tr style=\"text-align: right;\">\n",
       "      <th></th>\n",
       "      <th>model_train</th>\n",
       "      <th>rmse</th>\n",
       "      <th>r2</th>\n",
       "    </tr>\n",
       "  </thead>\n",
       "  <tbody>\n",
       "    <tr>\n",
       "      <th>0</th>\n",
       "      <td>baseline</td>\n",
       "      <td>245020</td>\n",
       "      <td>0</td>\n",
       "    </tr>\n",
       "    <tr>\n",
       "      <th>1</th>\n",
       "      <td>ordinary least squared(OLS)</td>\n",
       "      <td>206111</td>\n",
       "      <td>29</td>\n",
       "    </tr>\n",
       "    <tr>\n",
       "      <th>2</th>\n",
       "      <td>lasso lars(lars)</td>\n",
       "      <td>206111</td>\n",
       "      <td>29</td>\n",
       "    </tr>\n",
       "    <tr>\n",
       "      <th>3</th>\n",
       "      <td>Polynomial Regression(poly2)</td>\n",
       "      <td>204664</td>\n",
       "      <td>30</td>\n",
       "    </tr>\n",
       "    <tr>\n",
       "      <th>4</th>\n",
       "      <td>Generalized Linear Model (GLM)</td>\n",
       "      <td>210360</td>\n",
       "      <td>26</td>\n",
       "    </tr>\n",
       "  </tbody>\n",
       "</table>\n",
       "</div>"
      ],
      "text/plain": [
       "                      model_train    rmse  r2\n",
       "0                        baseline  245020   0\n",
       "1     ordinary least squared(OLS)  206111  29\n",
       "2                lasso lars(lars)  206111  29\n",
       "3    Polynomial Regression(poly2)  204664  30\n",
       "4  Generalized Linear Model (GLM)  210360  26"
      ]
     },
     "execution_count": 22,
     "metadata": {},
     "output_type": "execute_result"
    }
   ],
   "source": [
    "#showing the results from the models\n",
    "metrics_train_df"
   ]
  },
  {
   "cell_type": "code",
   "execution_count": 23,
   "id": "772416e1",
   "metadata": {
    "scrolled": false
   },
   "outputs": [
    {
     "data": {
      "text/html": [
       "<div>\n",
       "<style scoped>\n",
       "    .dataframe tbody tr th:only-of-type {\n",
       "        vertical-align: middle;\n",
       "    }\n",
       "\n",
       "    .dataframe tbody tr th {\n",
       "        vertical-align: top;\n",
       "    }\n",
       "\n",
       "    .dataframe thead th {\n",
       "        text-align: right;\n",
       "    }\n",
       "</style>\n",
       "<table border=\"1\" class=\"dataframe\">\n",
       "  <thead>\n",
       "    <tr style=\"text-align: right;\">\n",
       "      <th></th>\n",
       "      <th>model_validate</th>\n",
       "      <th>rmse</th>\n",
       "      <th>r2</th>\n",
       "    </tr>\n",
       "  </thead>\n",
       "  <tbody>\n",
       "    <tr>\n",
       "      <th>0</th>\n",
       "      <td>baseline</td>\n",
       "      <td>245020</td>\n",
       "      <td>0</td>\n",
       "    </tr>\n",
       "    <tr>\n",
       "      <th>1</th>\n",
       "      <td>ordinary least squared(OLS)</td>\n",
       "      <td>204155</td>\n",
       "      <td>29</td>\n",
       "    </tr>\n",
       "    <tr>\n",
       "      <th>2</th>\n",
       "      <td>lasso lars(lars)</td>\n",
       "      <td>204155</td>\n",
       "      <td>29</td>\n",
       "    </tr>\n",
       "    <tr>\n",
       "      <th>3</th>\n",
       "      <td>Polynomial Regression(poly2)</td>\n",
       "      <td>202460</td>\n",
       "      <td>31</td>\n",
       "    </tr>\n",
       "    <tr>\n",
       "      <th>4</th>\n",
       "      <td>Generalized Linear Model (GLM)</td>\n",
       "      <td>218487</td>\n",
       "      <td>19</td>\n",
       "    </tr>\n",
       "  </tbody>\n",
       "</table>\n",
       "</div>"
      ],
      "text/plain": [
       "                   model_validate    rmse  r2\n",
       "0                        baseline  245020   0\n",
       "1     ordinary least squared(OLS)  204155  29\n",
       "2                lasso lars(lars)  204155  29\n",
       "3    Polynomial Regression(poly2)  202460  31\n",
       "4  Generalized Linear Model (GLM)  218487  19"
      ]
     },
     "execution_count": 23,
     "metadata": {},
     "output_type": "execute_result"
    }
   ],
   "source": [
    "#showing the results from the models\n",
    "metrics_validate_df"
   ]
  },
  {
   "cell_type": "code",
   "execution_count": 24,
   "id": "51529901",
   "metadata": {},
   "outputs": [
    {
     "data": {
      "text/html": [
       "<div>\n",
       "<style scoped>\n",
       "    .dataframe tbody tr th:only-of-type {\n",
       "        vertical-align: middle;\n",
       "    }\n",
       "\n",
       "    .dataframe tbody tr th {\n",
       "        vertical-align: top;\n",
       "    }\n",
       "\n",
       "    .dataframe thead th {\n",
       "        text-align: right;\n",
       "    }\n",
       "</style>\n",
       "<table border=\"1\" class=\"dataframe\">\n",
       "  <thead>\n",
       "    <tr style=\"text-align: right;\">\n",
       "      <th></th>\n",
       "      <th>model_validate</th>\n",
       "      <th>rmse</th>\n",
       "      <th>r2</th>\n",
       "    </tr>\n",
       "  </thead>\n",
       "  <tbody>\n",
       "    <tr>\n",
       "      <th>0</th>\n",
       "      <td>baseline</td>\n",
       "      <td>245020</td>\n",
       "      <td>0</td>\n",
       "    </tr>\n",
       "    <tr>\n",
       "      <th>1</th>\n",
       "      <td>Polynomial Regression(poly2)</td>\n",
       "      <td>201313</td>\n",
       "      <td>30</td>\n",
       "    </tr>\n",
       "  </tbody>\n",
       "</table>\n",
       "</div>"
      ],
      "text/plain": [
       "                 model_validate    rmse  r2\n",
       "0                      baseline  245020   0\n",
       "1  Polynomial Regression(poly2)  201313  30"
      ]
     },
     "execution_count": 24,
     "metadata": {},
     "output_type": "execute_result"
    }
   ],
   "source": [
    "#showing the results from the models\n",
    "metrics_test_df"
   ]
  },
  {
   "cell_type": "markdown",
   "id": "e59e955e",
   "metadata": {},
   "source": [
    "# Conclusions"
   ]
  },
  {
   "cell_type": "markdown",
   "id": "393e9a0e",
   "metadata": {},
   "source": [
    "## explore recap\n",
    "- calculated finished square feet affect tax value dollar count\n",
    "- bathroom count affect tax value dollar count\n",
    "- bedroom count affect tax value dollar count\n",
    "- year built affect tax value dollar count\n",
    "    - The average of tax value dollar count has went up over the years\n",
    "    - The average of tax value dollar count is higher the more bedrooms a home posseses\n",
    "    - The average of tax value dollar count is higher the more square feet a home posseses\n",
    "    - The average of tax value dollar count is higher the more bathrooms a home posseses\n"
   ]
  },
  {
   "cell_type": "markdown",
   "id": "ba7fe630",
   "metadata": {},
   "source": [
    "## Modeling Summary\n",
    "- Polynomial Regression performed best\n",
    "    - rmse of 202664 \n",
    "    - r2 score of 31\n",
    "- lasso lars and ordinary least squared performed second best\n",
    "    - rmse scores of 206111\n",
    "    - r2 scores of 29\n",
    "- Generalized Linear Model performed worst at\n",
    "    - 218487 rmse\n",
    "    - 26 r2 score"
   ]
  },
  {
   "cell_type": "markdown",
   "id": "67d9ad8d",
   "metadata": {},
   "source": [
    "## Solution"
   ]
  },
  {
   "cell_type": "markdown",
   "id": "e10492c6",
   "metadata": {},
   "source": [
    "- Since the top model only performed 31% at best we cannot move forward with it\n",
    "- The solution would be to continue onto next steps in hopes of creating a better model"
   ]
  },
  {
   "cell_type": "markdown",
   "id": "ebb82740",
   "metadata": {},
   "source": [
    "# next steps"
   ]
  },
  {
   "cell_type": "markdown",
   "id": "9ea68578",
   "metadata": {},
   "source": [
    "- look for more things that affect tax value dollar count\n",
    "- break the catagories up by location subcatagories\n",
    "- imput new columns of information into the modeling tests"
   ]
  }
 ],
 "metadata": {
  "kernelspec": {
   "display_name": "Python 3 (ipykernel)",
   "language": "python",
   "name": "python3"
  },
  "language_info": {
   "codemirror_mode": {
    "name": "ipython",
    "version": 3
   },
   "file_extension": ".py",
   "mimetype": "text/x-python",
   "name": "python",
   "nbconvert_exporter": "python",
   "pygments_lexer": "ipython3",
   "version": "3.9.16"
  }
 },
 "nbformat": 4,
 "nbformat_minor": 5
}
