{
 "cells": [
  {
   "cell_type": "code",
   "execution_count": 1,
   "id": "676eab68",
   "metadata": {},
   "outputs": [],
   "source": [
    "import pandas as pd\n",
    "import numpy as np\n",
    "import env\n",
    "import matplotlib.pyplot as plt\n",
    "import seaborn as sns\n",
    "import os\n",
    "from scipy import stats\n",
    "from sklearn.model_selection import train_test_split\n",
    "from sklearn.impute import SimpleImputer\n",
    "from sklearn.preprocessing import MinMaxScaler\n",
    "from sklearn.preprocessing import RobustScaler\n",
    "from sklearn.preprocessing import StandardScaler\n",
    "from sklearn.preprocessing import QuantileTransformer\n",
    "from sklearn.linear_model import LinearRegression\n",
    "from sklearn.feature_selection import SelectKBest, RFE, f_regression, SequentialFeatureSelector\n",
    "from sklearn.metrics import mean_squared_error\n",
    "from sklearn.metrics import r2_score\n",
    "from sklearn.linear_model import LassoLars\n",
    "from sklearn.preprocessing import PolynomialFeatures\n",
    "from sklearn.linear_model import TweedieRegressor\n",
    "import wrangle\n",
    "import warnings\n",
    "warnings.filterwarnings(\"ignore\")\n",
    "import scipy.stats as stats"
   ]
  },
  {
   "cell_type": "markdown",
   "id": "b5dadaa7",
   "metadata": {},
   "source": [
    "# Acquire\n",
    "- Data acquiured from SQL database\n",
    "- it contained 53031 rows and 6 columns\n",
    "- Each row represents a single family home\n",
    "- Each column represents a catagory of data"
   ]
  },
  {
   "cell_type": "markdown",
   "id": "622520ce",
   "metadata": {},
   "source": [
    "# Prepare\n",
    "- checked that the column datatypes were appropriate\n",
    "- droped the unnamed: 0 column\n",
    "- created a boolean mask to find calculated square feet values under 25000\n",
    "- cut the top 5% of taxvaluedollar count\n",
    "- dropped the na values\n",
    "- converted calculatedfinishedsquarefeet, fips and yearbuilt to int's\n",
    "- Split data into train, validate and test (approx. 60/20/20)"
   ]
  },
  {
   "cell_type": "code",
   "execution_count": 2,
   "id": "b826d2c3",
   "metadata": {},
   "outputs": [],
   "source": [
    "df = pd.read_csv('zillow_data.csv')\n",
    "\n",
    "df = wrangle.preparing_data_zillow(df)\n",
    "df = df.drop(columns ='fips')"
   ]
  },
  {
   "cell_type": "code",
   "execution_count": 3,
   "id": "6ac77095",
   "metadata": {},
   "outputs": [
    {
     "data": {
      "text/html": [
       "<div>\n",
       "<style scoped>\n",
       "    .dataframe tbody tr th:only-of-type {\n",
       "        vertical-align: middle;\n",
       "    }\n",
       "\n",
       "    .dataframe tbody tr th {\n",
       "        vertical-align: top;\n",
       "    }\n",
       "\n",
       "    .dataframe thead th {\n",
       "        text-align: right;\n",
       "    }\n",
       "</style>\n",
       "<table border=\"1\" class=\"dataframe\">\n",
       "  <thead>\n",
       "    <tr style=\"text-align: right;\">\n",
       "      <th></th>\n",
       "      <th>taxvaluedollarcnt</th>\n",
       "      <th>calculatedfinishedsquarefeet</th>\n",
       "      <th>bedroomcnt</th>\n",
       "      <th>bathroomcnt</th>\n",
       "      <th>yearbuilt</th>\n",
       "    </tr>\n",
       "  </thead>\n",
       "  <tbody>\n",
       "    <tr>\n",
       "      <th>0</th>\n",
       "      <td>113382.0</td>\n",
       "      <td>1045</td>\n",
       "      <td>3.0</td>\n",
       "      <td>2.0</td>\n",
       "      <td>1992</td>\n",
       "    </tr>\n",
       "    <tr>\n",
       "      <th>1</th>\n",
       "      <td>116882.0</td>\n",
       "      <td>1807</td>\n",
       "      <td>4.0</td>\n",
       "      <td>2.0</td>\n",
       "      <td>1994</td>\n",
       "    </tr>\n",
       "    <tr>\n",
       "      <th>2</th>\n",
       "      <td>187178.0</td>\n",
       "      <td>1766</td>\n",
       "      <td>4.0</td>\n",
       "      <td>2.0</td>\n",
       "      <td>1993</td>\n",
       "    </tr>\n",
       "    <tr>\n",
       "      <th>3</th>\n",
       "      <td>184923.0</td>\n",
       "      <td>1672</td>\n",
       "      <td>3.0</td>\n",
       "      <td>2.0</td>\n",
       "      <td>1991</td>\n",
       "    </tr>\n",
       "    <tr>\n",
       "      <th>4</th>\n",
       "      <td>218000.0</td>\n",
       "      <td>1490</td>\n",
       "      <td>3.0</td>\n",
       "      <td>2.0</td>\n",
       "      <td>1992</td>\n",
       "    </tr>\n",
       "    <tr>\n",
       "      <th>...</th>\n",
       "      <td>...</td>\n",
       "      <td>...</td>\n",
       "      <td>...</td>\n",
       "      <td>...</td>\n",
       "      <td>...</td>\n",
       "    </tr>\n",
       "    <tr>\n",
       "      <th>56075</th>\n",
       "      <td>277073.0</td>\n",
       "      <td>2123</td>\n",
       "      <td>5.0</td>\n",
       "      <td>3.0</td>\n",
       "      <td>1965</td>\n",
       "    </tr>\n",
       "    <tr>\n",
       "      <th>56076</th>\n",
       "      <td>238731.0</td>\n",
       "      <td>1192</td>\n",
       "      <td>3.0</td>\n",
       "      <td>2.0</td>\n",
       "      <td>1966</td>\n",
       "    </tr>\n",
       "    <tr>\n",
       "      <th>56077</th>\n",
       "      <td>208237.0</td>\n",
       "      <td>1633</td>\n",
       "      <td>3.0</td>\n",
       "      <td>3.0</td>\n",
       "      <td>1965</td>\n",
       "    </tr>\n",
       "    <tr>\n",
       "      <th>56078</th>\n",
       "      <td>102470.0</td>\n",
       "      <td>1824</td>\n",
       "      <td>5.0</td>\n",
       "      <td>3.0</td>\n",
       "      <td>1965</td>\n",
       "    </tr>\n",
       "    <tr>\n",
       "      <th>56079</th>\n",
       "      <td>83465.0</td>\n",
       "      <td>1633</td>\n",
       "      <td>3.0</td>\n",
       "      <td>3.0</td>\n",
       "      <td>1966</td>\n",
       "    </tr>\n",
       "  </tbody>\n",
       "</table>\n",
       "<p>53031 rows × 5 columns</p>\n",
       "</div>"
      ],
      "text/plain": [
       "       taxvaluedollarcnt  calculatedfinishedsquarefeet  bedroomcnt  \\\n",
       "0               113382.0                          1045         3.0   \n",
       "1               116882.0                          1807         4.0   \n",
       "2               187178.0                          1766         4.0   \n",
       "3               184923.0                          1672         3.0   \n",
       "4               218000.0                          1490         3.0   \n",
       "...                  ...                           ...         ...   \n",
       "56075           277073.0                          2123         5.0   \n",
       "56076           238731.0                          1192         3.0   \n",
       "56077           208237.0                          1633         3.0   \n",
       "56078           102470.0                          1824         5.0   \n",
       "56079            83465.0                          1633         3.0   \n",
       "\n",
       "       bathroomcnt  yearbuilt  \n",
       "0              2.0       1992  \n",
       "1              2.0       1994  \n",
       "2              2.0       1993  \n",
       "3              2.0       1991  \n",
       "4              2.0       1992  \n",
       "...            ...        ...  \n",
       "56075          3.0       1965  \n",
       "56076          2.0       1966  \n",
       "56077          3.0       1965  \n",
       "56078          3.0       1965  \n",
       "56079          3.0       1966  \n",
       "\n",
       "[53031 rows x 5 columns]"
      ]
     },
     "execution_count": 3,
     "metadata": {},
     "output_type": "execute_result"
    }
   ],
   "source": [
    "df"
   ]
  },
  {
   "cell_type": "code",
   "execution_count": 4,
   "id": "409f9c53",
   "metadata": {},
   "outputs": [],
   "source": [
    "train, validate, test = wrangle.split_data(df, 'taxvaluedollarcnt')"
   ]
  },
  {
   "cell_type": "code",
   "execution_count": 5,
   "id": "9dc3582b",
   "metadata": {},
   "outputs": [],
   "source": [
    "X_train, X_validate, X_test, y_train, y_validate, y_test = wrangle.get_X_train_val_test(train, validate, test,'taxvaluedollarcnt', 'taxvaluedollarcnt' )"
   ]
  },
  {
   "cell_type": "markdown",
   "id": "dba8e535",
   "metadata": {},
   "source": [
    "# A brief look at the data"
   ]
  },
  {
   "cell_type": "code",
   "execution_count": 6,
   "id": "9f6e3a19",
   "metadata": {},
   "outputs": [
    {
     "data": {
      "text/html": [
       "<div>\n",
       "<style scoped>\n",
       "    .dataframe tbody tr th:only-of-type {\n",
       "        vertical-align: middle;\n",
       "    }\n",
       "\n",
       "    .dataframe tbody tr th {\n",
       "        vertical-align: top;\n",
       "    }\n",
       "\n",
       "    .dataframe thead th {\n",
       "        text-align: right;\n",
       "    }\n",
       "</style>\n",
       "<table border=\"1\" class=\"dataframe\">\n",
       "  <thead>\n",
       "    <tr style=\"text-align: right;\">\n",
       "      <th></th>\n",
       "      <th>taxvaluedollarcnt</th>\n",
       "      <th>calculatedfinishedsquarefeet</th>\n",
       "      <th>bedroomcnt</th>\n",
       "      <th>bathroomcnt</th>\n",
       "      <th>yearbuilt</th>\n",
       "    </tr>\n",
       "  </thead>\n",
       "  <tbody>\n",
       "    <tr>\n",
       "      <th>40395</th>\n",
       "      <td>642246.0</td>\n",
       "      <td>2790</td>\n",
       "      <td>4.0</td>\n",
       "      <td>2.0</td>\n",
       "      <td>2015</td>\n",
       "    </tr>\n",
       "    <tr>\n",
       "      <th>7365</th>\n",
       "      <td>673516.0</td>\n",
       "      <td>2300</td>\n",
       "      <td>5.0</td>\n",
       "      <td>4.0</td>\n",
       "      <td>1973</td>\n",
       "    </tr>\n",
       "    <tr>\n",
       "      <th>40927</th>\n",
       "      <td>150311.0</td>\n",
       "      <td>807</td>\n",
       "      <td>3.0</td>\n",
       "      <td>1.0</td>\n",
       "      <td>1924</td>\n",
       "    </tr>\n",
       "    <tr>\n",
       "      <th>43093</th>\n",
       "      <td>334977.0</td>\n",
       "      <td>1796</td>\n",
       "      <td>3.0</td>\n",
       "      <td>2.0</td>\n",
       "      <td>1963</td>\n",
       "    </tr>\n",
       "    <tr>\n",
       "      <th>29787</th>\n",
       "      <td>343554.0</td>\n",
       "      <td>1828</td>\n",
       "      <td>4.0</td>\n",
       "      <td>2.0</td>\n",
       "      <td>1979</td>\n",
       "    </tr>\n",
       "  </tbody>\n",
       "</table>\n",
       "</div>"
      ],
      "text/plain": [
       "       taxvaluedollarcnt  calculatedfinishedsquarefeet  bedroomcnt  \\\n",
       "40395           642246.0                          2790         4.0   \n",
       "7365            673516.0                          2300         5.0   \n",
       "40927           150311.0                           807         3.0   \n",
       "43093           334977.0                          1796         3.0   \n",
       "29787           343554.0                          1828         4.0   \n",
       "\n",
       "       bathroomcnt  yearbuilt  \n",
       "40395          2.0       2015  \n",
       "7365           4.0       1973  \n",
       "40927          1.0       1924  \n",
       "43093          2.0       1963  \n",
       "29787          2.0       1979  "
      ]
     },
     "execution_count": 6,
     "metadata": {},
     "output_type": "execute_result"
    }
   ],
   "source": [
    "train.head()"
   ]
  },
  {
   "cell_type": "markdown",
   "id": "8784c848",
   "metadata": {},
   "source": [
    "# A summary of the data"
   ]
  },
  {
   "cell_type": "code",
   "execution_count": 7,
   "id": "92f4147b",
   "metadata": {},
   "outputs": [
    {
     "data": {
      "text/html": [
       "<div>\n",
       "<style scoped>\n",
       "    .dataframe tbody tr th:only-of-type {\n",
       "        vertical-align: middle;\n",
       "    }\n",
       "\n",
       "    .dataframe tbody tr th {\n",
       "        vertical-align: top;\n",
       "    }\n",
       "\n",
       "    .dataframe thead th {\n",
       "        text-align: right;\n",
       "    }\n",
       "</style>\n",
       "<table border=\"1\" class=\"dataframe\">\n",
       "  <thead>\n",
       "    <tr style=\"text-align: right;\">\n",
       "      <th></th>\n",
       "      <th>taxvaluedollarcnt</th>\n",
       "      <th>calculatedfinishedsquarefeet</th>\n",
       "      <th>bedroomcnt</th>\n",
       "      <th>bathroomcnt</th>\n",
       "      <th>yearbuilt</th>\n",
       "    </tr>\n",
       "  </thead>\n",
       "  <tbody>\n",
       "    <tr>\n",
       "      <th>count</th>\n",
       "      <td>3.181800e+04</td>\n",
       "      <td>31818.000000</td>\n",
       "      <td>31818.000000</td>\n",
       "      <td>31818.000000</td>\n",
       "      <td>31818.000000</td>\n",
       "    </tr>\n",
       "    <tr>\n",
       "      <th>mean</th>\n",
       "      <td>3.631247e+05</td>\n",
       "      <td>1754.951317</td>\n",
       "      <td>3.254793</td>\n",
       "      <td>2.145719</td>\n",
       "      <td>1960.306022</td>\n",
       "    </tr>\n",
       "    <tr>\n",
       "      <th>std</th>\n",
       "      <td>2.457540e+05</td>\n",
       "      <td>721.495540</td>\n",
       "      <td>0.898386</td>\n",
       "      <td>0.835019</td>\n",
       "      <td>21.384375</td>\n",
       "    </tr>\n",
       "    <tr>\n",
       "      <th>min</th>\n",
       "      <td>1.050000e+02</td>\n",
       "      <td>20.000000</td>\n",
       "      <td>0.000000</td>\n",
       "      <td>0.000000</td>\n",
       "      <td>1862.000000</td>\n",
       "    </tr>\n",
       "    <tr>\n",
       "      <th>25%</th>\n",
       "      <td>1.786985e+05</td>\n",
       "      <td>1242.000000</td>\n",
       "      <td>3.000000</td>\n",
       "      <td>2.000000</td>\n",
       "      <td>1949.000000</td>\n",
       "    </tr>\n",
       "    <tr>\n",
       "      <th>50%</th>\n",
       "      <td>3.122540e+05</td>\n",
       "      <td>1592.000000</td>\n",
       "      <td>3.000000</td>\n",
       "      <td>2.000000</td>\n",
       "      <td>1958.000000</td>\n",
       "    </tr>\n",
       "    <tr>\n",
       "      <th>75%</th>\n",
       "      <td>4.923950e+05</td>\n",
       "      <td>2117.000000</td>\n",
       "      <td>4.000000</td>\n",
       "      <td>3.000000</td>\n",
       "      <td>1974.000000</td>\n",
       "    </tr>\n",
       "    <tr>\n",
       "      <th>max</th>\n",
       "      <td>1.206863e+06</td>\n",
       "      <td>9200.000000</td>\n",
       "      <td>9.000000</td>\n",
       "      <td>8.000000</td>\n",
       "      <td>2016.000000</td>\n",
       "    </tr>\n",
       "  </tbody>\n",
       "</table>\n",
       "</div>"
      ],
      "text/plain": [
       "       taxvaluedollarcnt  calculatedfinishedsquarefeet    bedroomcnt  \\\n",
       "count       3.181800e+04                  31818.000000  31818.000000   \n",
       "mean        3.631247e+05                   1754.951317      3.254793   \n",
       "std         2.457540e+05                    721.495540      0.898386   \n",
       "min         1.050000e+02                     20.000000      0.000000   \n",
       "25%         1.786985e+05                   1242.000000      3.000000   \n",
       "50%         3.122540e+05                   1592.000000      3.000000   \n",
       "75%         4.923950e+05                   2117.000000      4.000000   \n",
       "max         1.206863e+06                   9200.000000      9.000000   \n",
       "\n",
       "        bathroomcnt     yearbuilt  \n",
       "count  31818.000000  31818.000000  \n",
       "mean       2.145719   1960.306022  \n",
       "std        0.835019     21.384375  \n",
       "min        0.000000   1862.000000  \n",
       "25%        2.000000   1949.000000  \n",
       "50%        2.000000   1958.000000  \n",
       "75%        3.000000   1974.000000  \n",
       "max        8.000000   2016.000000  "
      ]
     },
     "execution_count": 7,
     "metadata": {},
     "output_type": "execute_result"
    }
   ],
   "source": [
    "train.describe()"
   ]
  },
  {
   "cell_type": "code",
   "execution_count": 8,
   "id": "fe5d2aef",
   "metadata": {},
   "outputs": [],
   "source": [
    "train['year_bins'] = pd.qcut(X_train.yearbuilt, q = 4, precision=0).astype('str')"
   ]
  },
  {
   "cell_type": "code",
   "execution_count": 9,
   "id": "c48cb8be",
   "metadata": {},
   "outputs": [],
   "source": [
    "BIN_1949_1958 = train[train['year_bins'] == '(1949.0, 1958.0]']\n",
    "BIN_1861_1949 = train[train['year_bins'] == '(1861.0, 1949.0]']\n",
    "BIN_1958_1974 = train[train['year_bins'] == '(1958.0, 1974.0]']\n",
    "BIN_1974_2016 = train[train['year_bins'] == '(1974.0, 2016.0]']"
   ]
  },
  {
   "cell_type": "markdown",
   "id": "5527dbaf",
   "metadata": {},
   "source": [
    "# Does Tax-value-dollar-count increase over time"
   ]
  },
  {
   "cell_type": "code",
   "execution_count": 10,
   "id": "3f3fe6a8",
   "metadata": {},
   "outputs": [
    {
     "data": {
      "image/png": "[encoded data removed]",
      "text/plain": [
       "<Figure size 640x480 with 1 Axes>"
      ]
     },
     "metadata": {},
     "output_type": "display_data"
    }
   ],
   "source": [
    "sns.boxplot(train, x= train['year_bins'], y =train['taxvaluedollarcnt'], order = ['(1861.0, 1949.0]','(1949.0, 1958.0]','(1958.0, 1974.0]','(1974.0, 2016.0]'])\n",
    "plt.show()"
   ]
  },
  {
   "cell_type": "markdown",
   "id": "ef3226a3",
   "metadata": {},
   "source": [
    "- The average of tax value dollar count has went up over the years\n",
    "\n",
    "<br>\n",
    "- we assume a normal distribution because of the amount of samples being over 500\n",
    "<br>\n",
    "<b>I will now use an anova test to investigate if tax value dollar count has went up over the years.</b>\n",
    "<br>\n",
    "- I will use a confidence interval of 95%\n",
    "- the resulting alpha is .05\n",
    "\n",
    "<b>Ho: The mean of tax value dollar count has not changed over the years</b>\n",
    "\n",
    "<b>Ha: The mean of tax value dollar count has changed over the years</b>"
   ]
  },
  {
   "cell_type": "code",
   "execution_count": 11,
   "id": "0983e572",
   "metadata": {},
   "outputs": [
    {
     "name": "stdout",
     "output_type": "stream",
     "text": [
      "we reject the null hypothesis because 0.0 < alpha\n"
     ]
    }
   ],
   "source": [
    "t, p = stats.f_oneway(BIN_1949_1958.taxvaluedollarcnt, BIN_1861_1949.taxvaluedollarcnt,BIN_1958_1974.taxvaluedollarcnt, BIN_1974_2016.taxvaluedollarcnt)\n",
    "print('we reject the null hypothesis because', p, '< alpha')"
   ]
  },
  {
   "cell_type": "markdown",
   "id": "14a5e77e",
   "metadata": {},
   "source": [
    "# Does number of bedrooms affect tax value dollar count"
   ]
  },
  {
   "cell_type": "code",
   "execution_count": 12,
   "id": "5ca1dfed",
   "metadata": {},
   "outputs": [],
   "source": [
    "train['bedroom_bins'] = pd.cut(X_train.bedroomcnt, bins = 4).astype('str')\n",
    "\n",
    "\n",
    "BIN_0_2_5 = train[train['bedroom_bins'] == '(-0.009, 2.25]']\n",
    "BIN_45675 = train[train['bedroom_bins'] == '(4.5, 6.75]']\n",
    "BIN_22545 = train[train['bedroom_bins'] == '(2.25, 4.5]']\n",
    "BIN_679 = train[train['bedroom_bins'] == '(6.75, 9.0]']"
   ]
  },
  {
   "cell_type": "code",
   "execution_count": 13,
   "id": "a42f8d19",
   "metadata": {},
   "outputs": [
    {
     "data": {
      "image/png": "[encoded data removed]",
      "text/plain": [
       "<Figure size 640x480 with 1 Axes>"
      ]
     },
     "metadata": {},
     "output_type": "display_data"
    }
   ],
   "source": [
    "sns.boxplot(train, x= train['bedroom_bins'], y =train['taxvaluedollarcnt'], order = ['(-0.009, 2.25]','(2.25, 4.5]','(4.5, 6.75]','(6.75, 9.0]'])\n",
    "plt.show()"
   ]
  },
  {
   "cell_type": "markdown",
   "id": "d0772ee9",
   "metadata": {},
   "source": [
    "- The average of tax value dollar count is higher the more bathrooms a home posseses\n",
    "\n",
    "<br>\n",
    "- we assume a normal distribution because of the amount of samples being over 500\n",
    "<br>\n",
    "<b>I will now use an anova test to investigate if tax value dollar count is higher based on bathrooms.</b>\n",
    "<br>\n",
    "- I will use a confidence interval of 95%\n",
    "- the resulting alpha is .05\n",
    "\n",
    "<b>Ho: The mean of tax value dollar count is the same no matter how many bedrooms a home posseses</b>\n",
    "\n",
    "<b>Ha: The mean of tax value dollar count is different based on number of bedrooms</b>"
   ]
  },
  {
   "cell_type": "code",
   "execution_count": 14,
   "id": "8a85bc4c",
   "metadata": {},
   "outputs": [
    {
     "name": "stdout",
     "output_type": "stream",
     "text": [
      "we reject the null hypothesis because 0.0 < alpha\n"
     ]
    }
   ],
   "source": [
    "t, p = stats.f_oneway(BIN_0_2_5.taxvaluedollarcnt, BIN_22545.taxvaluedollarcnt, BIN_45675.taxvaluedollarcnt, BIN_679.taxvaluedollarcnt)\n",
    "print('we reject the null hypothesis because', p, '< alpha')"
   ]
  },
  {
   "cell_type": "markdown",
   "id": "8b1d0bdf",
   "metadata": {},
   "source": [
    "# Does the size of the house affect the tax value dollar count"
   ]
  },
  {
   "cell_type": "code",
   "execution_count": 15,
   "id": "94abcf4d",
   "metadata": {},
   "outputs": [
    {
     "data": {
      "text/plain": [
       "(1242.0, 1592.0]    7969\n",
       "(19.999, 1242.0]    7960\n",
       "(2117.0, 9200.0]    7949\n",
       "(1592.0, 2117.0]    7940\n",
       "Name: size_bins, dtype: int64"
      ]
     },
     "execution_count": 15,
     "metadata": {},
     "output_type": "execute_result"
    }
   ],
   "source": [
    "train['size_bins'] = pd.qcut(X_train.calculatedfinishedsquarefeet, q = 4).astype('str')\n",
    "train['size_bins'].value_counts()"
   ]
  },
  {
   "cell_type": "code",
   "execution_count": 16,
   "id": "5e7fda8d",
   "metadata": {},
   "outputs": [],
   "source": [
    "size_19999_1242 = train[train['size_bins'] == '(19.999, 1242.0]']\n",
    "size_1242_1592 = train[train['size_bins'] == '(1242.0, 1592.0]']\n",
    "size_1592_2117 = train[train['size_bins'] == '(1592.0, 2117.0]']\n",
    "size_2117_9200 = train[train['size_bins'] == '(2117.0, 9200.0]']"
   ]
  },
  {
   "cell_type": "code",
   "execution_count": 17,
   "id": "457d26f6",
   "metadata": {},
   "outputs": [
    {
     "data": {
      "image/png": "[encoded data removed]",
      "text/plain": [
       "<Figure size 640x480 with 1 Axes>"
      ]
     },
     "metadata": {},
     "output_type": "display_data"
    }
   ],
   "source": [
    "sns.boxplot(train, x= train['size_bins'], y =train['taxvaluedollarcnt'], order = ['(19.999, 1242.0]','(1242.0, 1592.0]','(1592.0, 2117.0]','(2117.0, 9200.0]'])\n",
    "plt.show()\n",
    "# 160 square feet minimun update under prepare"
   ]
  },
  {
   "cell_type": "markdown",
   "id": "a471ab3e",
   "metadata": {},
   "source": [
    "- The average of tax value dollar count is higher the more square feet a home posseses\n",
    "\n",
    "<br>\n",
    "- we assume a normal distribution because of the amount of samples being over 500\n",
    "<br>\n",
    "<b>I will now use an anova test to investigate if tax value dollar count is higher based on squarefeet of the home.</b>\n",
    "<br>\n",
    "- I will use a confidence interval of 95%\n",
    "- the resulting alpha is .05\n",
    "\n",
    "<b>Ho: The mean of tax value dollar count is the same no matter how many square feet a home posseses</b>\n",
    "\n",
    "<b>Ha: The mean of tax value dollar count is different based on size of the house</b>"
   ]
  },
  {
   "cell_type": "code",
   "execution_count": 18,
   "id": "91736ee6",
   "metadata": {},
   "outputs": [
    {
     "name": "stdout",
     "output_type": "stream",
     "text": [
      "we reject the null hypothesis because 0.0 < alpha\n"
     ]
    }
   ],
   "source": [
    "t, p = stats.f_oneway(size_19999_1242.taxvaluedollarcnt, size_1242_1592.taxvaluedollarcnt, size_1592_2117.taxvaluedollarcnt, size_2117_9200.taxvaluedollarcnt)\n",
    "print('we reject the null hypothesis because', p, '< alpha')"
   ]
  },
  {
   "cell_type": "markdown",
   "id": "e32e6139",
   "metadata": {},
   "source": [
    "# Does bathroom count affect the taxvalue dollar count of a home"
   ]
  },
  {
   "cell_type": "code",
   "execution_count": 19,
   "id": "20b4ec4d",
   "metadata": {},
   "outputs": [
    {
     "data": {
      "text/plain": [
       "(-0.008, 2.0]    21409\n",
       "(2.0, 4.0]        9938\n",
       "(4.0, 6.0]         457\n",
       "(6.0, 8.0]          14\n",
       "Name: bathroom_bins, dtype: int64"
      ]
     },
     "execution_count": 19,
     "metadata": {},
     "output_type": "execute_result"
    }
   ],
   "source": [
    "train['bathroom_bins'] = pd.cut(X_train.bathroomcnt, bins= 4).astype('str')\n",
    "train['bathroom_bins'].value_counts()"
   ]
  },
  {
   "cell_type": "code",
   "execution_count": 20,
   "id": "16759cc7",
   "metadata": {},
   "outputs": [],
   "source": [
    "bath_0_2 = train[train['bathroom_bins'] == '(-0.008, 2.0]']\n",
    "bath_2_4 = train[train['bathroom_bins'] == '(2.0, 4.0]']\n",
    "bath_4_6 = train[train['bathroom_bins'] == '(4.0, 6.0]']\n",
    "bath_6_8 = train[train['bathroom_bins'] == '(6.0, 8.0]']"
   ]
  },
  {
   "cell_type": "code",
   "execution_count": 21,
   "id": "d82f03e6",
   "metadata": {},
   "outputs": [
    {
     "data": {
      "image/png": "[encoded data removed]",
      "text/plain": [
       "<Figure size 640x480 with 1 Axes>"
      ]
     },
     "metadata": {},
     "output_type": "display_data"
    }
   ],
   "source": [
    "sns.boxplot(train, x= train['bathroom_bins'], y =train['taxvaluedollarcnt'], order = ['(-0.008, 2.0]','(2.0, 4.0]','(4.0, 6.0]','(6.0, 8.0]'])\n",
    "plt.show()"
   ]
  },
  {
   "cell_type": "markdown",
   "id": "310a4b22",
   "metadata": {},
   "source": [
    "- The average of tax value dollar count is higher bathrooms a home posseses\n",
    "\n",
    "<br>\n",
    "- we assume a normal distribution because of the amount of samples being over 500\n",
    "<br>\n",
    "<b>I will now use an anova test to investigate if tax value dollar count is higher based on number of bathrooms in a home.</b>\n",
    "<br>\n",
    "- I will use a confidence interval of 95%\n",
    "- the resulting alpha is .05\n",
    "\n",
    "<b>Ho: The mean of tax value dollar count is the same no matter how many bathrooms a home posseses</b>\n",
    "\n",
    "<b>Ha: The mean of tax value dollar count is different based on number of bathrooms in the house</b>"
   ]
  },
  {
   "cell_type": "code",
   "execution_count": 22,
   "id": "a4bf5f42",
   "metadata": {},
   "outputs": [
    {
     "name": "stdout",
     "output_type": "stream",
     "text": [
      "we reject the null hypothesis because 0.0 < alpha\n"
     ]
    }
   ],
   "source": [
    "t, p = stats.f_oneway(bath_0_2.taxvaluedollarcnt, bath_2_4.taxvaluedollarcnt, bath_4_6.taxvaluedollarcnt, bath_6_8.taxvaluedollarcnt)\n",
    "print('we reject the null hypothesis because', p, '< alpha')"
   ]
  },
  {
   "cell_type": "markdown",
   "id": "4e7a02ba",
   "metadata": {},
   "source": [
    "## Exploratory Summary"
   ]
  },
  {
   "cell_type": "markdown",
   "id": "d4f7aa3c",
   "metadata": {},
   "source": [
    "<b>tax value dollar count was affected by</b>\n",
    "- calculated square feet \n",
    "- bathroom count\n",
    "- bedroom count\n",
    "- year built"
   ]
  },
  {
   "cell_type": "markdown",
   "id": "6f28af56",
   "metadata": {},
   "source": [
    "## Features I am moving to modeling With"
   ]
  },
  {
   "cell_type": "markdown",
   "id": "533557a7",
   "metadata": {},
   "source": [
    "- calculated square feet \n",
    "- bathroom count\n",
    "- bedroom count\n",
    "- year built"
   ]
  },
  {
   "cell_type": "markdown",
   "id": "b675b776",
   "metadata": {},
   "source": [
    "## Modeling"
   ]
  },
  {
   "cell_type": "markdown",
   "id": "33bcf6c2",
   "metadata": {},
   "source": [
    "- I will be scaling my data with a robust scaler\n",
    "\n",
    "** I will be evaluating models developed using four different model types and various hyperparameter configurations * Models will be evaluated on train and validate data * The model that performs the best will then be evaluated on test data"
   ]
  },
  {
   "cell_type": "code",
   "execution_count": 23,
   "id": "5b600075",
   "metadata": {},
   "outputs": [],
   "source": [
    "X_train_columns = X_train.columns\n",
    "X_validate_columns = X_validate.columns\n",
    "X_test_columns = X_test.columns\n",
    "X_train_numbers, X_validade_numbers, X_test_numbers = wrangle.scaler_robust(X_train, X_validate, X_test)"
   ]
  },
  {
   "cell_type": "code",
   "execution_count": 24,
   "id": "f1ae963e",
   "metadata": {
    "scrolled": true
   },
   "outputs": [],
   "source": [
    "X_train_scaled = pd.DataFrame(columns = X_train_columns)\n",
    "for i in range(int(X_train_numbers.shape[0])):\n",
    "    X_train_scaled.loc[len(X_train_scaled.index)] = X_train_numbers[i]\n",
    "    \n",
    "X_validate_scaled = pd.DataFrame(columns = X_validate_columns)\n",
    "for i in range(int(X_validade_numbers.shape[0])):\n",
    "    X_validate_scaled.loc[len(X_validate_scaled.index)] = X_validade_numbers[i]\n",
    "    \n",
    "X_test_scaled = pd.DataFrame(columns = X_test_columns)\n",
    "for i in range(int(X_test_numbers.shape[0])):\n",
    "    X_test_scaled.loc[len(X_test_scaled.index)] = X_test_numbers[i]\n"
   ]
  },
  {
   "cell_type": "code",
   "execution_count": 25,
   "id": "c046b155",
   "metadata": {},
   "outputs": [
    {
     "data": {
      "text/html": [
       "<div>\n",
       "<style scoped>\n",
       "    .dataframe tbody tr th:only-of-type {\n",
       "        vertical-align: middle;\n",
       "    }\n",
       "\n",
       "    .dataframe tbody tr th {\n",
       "        vertical-align: top;\n",
       "    }\n",
       "\n",
       "    .dataframe thead th {\n",
       "        text-align: right;\n",
       "    }\n",
       "</style>\n",
       "<table border=\"1\" class=\"dataframe\">\n",
       "  <thead>\n",
       "    <tr style=\"text-align: right;\">\n",
       "      <th></th>\n",
       "      <th>calculatedfinishedsquarefeet</th>\n",
       "      <th>bedroomcnt</th>\n",
       "      <th>bathroomcnt</th>\n",
       "      <th>yearbuilt</th>\n",
       "    </tr>\n",
       "  </thead>\n",
       "  <tbody>\n",
       "    <tr>\n",
       "      <th>0</th>\n",
       "      <td>-0.034652</td>\n",
       "      <td>0.0</td>\n",
       "      <td>0.0</td>\n",
       "      <td>0.086957</td>\n",
       "    </tr>\n",
       "    <tr>\n",
       "      <th>1</th>\n",
       "      <td>1.874675</td>\n",
       "      <td>2.0</td>\n",
       "      <td>1.0</td>\n",
       "      <td>2.086957</td>\n",
       "    </tr>\n",
       "    <tr>\n",
       "      <th>2</th>\n",
       "      <td>-0.128213</td>\n",
       "      <td>0.0</td>\n",
       "      <td>0.0</td>\n",
       "      <td>-0.521739</td>\n",
       "    </tr>\n",
       "    <tr>\n",
       "      <th>3</th>\n",
       "      <td>-0.049668</td>\n",
       "      <td>0.0</td>\n",
       "      <td>0.0</td>\n",
       "      <td>1.304348</td>\n",
       "    </tr>\n",
       "    <tr>\n",
       "      <th>4</th>\n",
       "      <td>1.036096</td>\n",
       "      <td>1.0</td>\n",
       "      <td>1.0</td>\n",
       "      <td>-0.217391</td>\n",
       "    </tr>\n",
       "    <tr>\n",
       "      <th>...</th>\n",
       "      <td>...</td>\n",
       "      <td>...</td>\n",
       "      <td>...</td>\n",
       "      <td>...</td>\n",
       "    </tr>\n",
       "    <tr>\n",
       "      <th>10601</th>\n",
       "      <td>0.827029</td>\n",
       "      <td>1.0</td>\n",
       "      <td>1.0</td>\n",
       "      <td>0.956522</td>\n",
       "    </tr>\n",
       "    <tr>\n",
       "      <th>10602</th>\n",
       "      <td>1.657522</td>\n",
       "      <td>1.0</td>\n",
       "      <td>2.0</td>\n",
       "      <td>-0.043478</td>\n",
       "    </tr>\n",
       "    <tr>\n",
       "      <th>10603</th>\n",
       "      <td>0.629512</td>\n",
       "      <td>1.0</td>\n",
       "      <td>1.0</td>\n",
       "      <td>0.869565</td>\n",
       "    </tr>\n",
       "    <tr>\n",
       "      <th>10604</th>\n",
       "      <td>-0.487439</td>\n",
       "      <td>0.0</td>\n",
       "      <td>0.0</td>\n",
       "      <td>0.086957</td>\n",
       "    </tr>\n",
       "    <tr>\n",
       "      <th>10605</th>\n",
       "      <td>-0.600635</td>\n",
       "      <td>0.0</td>\n",
       "      <td>0.0</td>\n",
       "      <td>0.000000</td>\n",
       "    </tr>\n",
       "  </tbody>\n",
       "</table>\n",
       "<p>10606 rows × 4 columns</p>\n",
       "</div>"
      ],
      "text/plain": [
       "       calculatedfinishedsquarefeet  bedroomcnt  bathroomcnt  yearbuilt\n",
       "0                         -0.034652         0.0          0.0   0.086957\n",
       "1                          1.874675         2.0          1.0   2.086957\n",
       "2                         -0.128213         0.0          0.0  -0.521739\n",
       "3                         -0.049668         0.0          0.0   1.304348\n",
       "4                          1.036096         1.0          1.0  -0.217391\n",
       "...                             ...         ...          ...        ...\n",
       "10601                      0.827029         1.0          1.0   0.956522\n",
       "10602                      1.657522         1.0          2.0  -0.043478\n",
       "10603                      0.629512         1.0          1.0   0.869565\n",
       "10604                     -0.487439         0.0          0.0   0.086957\n",
       "10605                     -0.600635         0.0          0.0   0.000000\n",
       "\n",
       "[10606 rows x 4 columns]"
      ]
     },
     "execution_count": 25,
     "metadata": {},
     "output_type": "execute_result"
    }
   ],
   "source": [
    "X_validate_scaled"
   ]
  },
  {
   "cell_type": "code",
   "execution_count": 26,
   "id": "d09a0ac2",
   "metadata": {},
   "outputs": [],
   "source": [
    "metrics_train_df, metrics_validate_df = wrangle.get_model_numbers(X_train, X_validate, X_test, y_train, y_validate, y_test)"
   ]
  },
  {
   "cell_type": "code",
   "execution_count": 27,
   "id": "c3499b4b",
   "metadata": {},
   "outputs": [
    {
     "data": {
      "text/html": [
       "<div>\n",
       "<style scoped>\n",
       "    .dataframe tbody tr th:only-of-type {\n",
       "        vertical-align: middle;\n",
       "    }\n",
       "\n",
       "    .dataframe tbody tr th {\n",
       "        vertical-align: top;\n",
       "    }\n",
       "\n",
       "    .dataframe thead th {\n",
       "        text-align: right;\n",
       "    }\n",
       "</style>\n",
       "<table border=\"1\" class=\"dataframe\">\n",
       "  <thead>\n",
       "    <tr style=\"text-align: right;\">\n",
       "      <th></th>\n",
       "      <th>model_train</th>\n",
       "      <th>rmse</th>\n",
       "      <th>r2</th>\n",
       "    </tr>\n",
       "  </thead>\n",
       "  <tbody>\n",
       "    <tr>\n",
       "      <th>0</th>\n",
       "      <td>baseline</td>\n",
       "      <td>245750.179222</td>\n",
       "      <td>0.000000e+00</td>\n",
       "    </tr>\n",
       "    <tr>\n",
       "      <th>1</th>\n",
       "      <td>ordinary least squared(OLS)</td>\n",
       "      <td>205586.468046</td>\n",
       "      <td>3.001558e-01</td>\n",
       "    </tr>\n",
       "    <tr>\n",
       "      <th>2</th>\n",
       "      <td>lasso lars(lars)</td>\n",
       "      <td>205586.468066</td>\n",
       "      <td>3.001558e-01</td>\n",
       "    </tr>\n",
       "    <tr>\n",
       "      <th>3</th>\n",
       "      <td>Polynomial Regression(poly2)</td>\n",
       "      <td>204061.535087</td>\n",
       "      <td>3.104995e-01</td>\n",
       "    </tr>\n",
       "    <tr>\n",
       "      <th>4</th>\n",
       "      <td>Generalized Linear Model (GLM)</td>\n",
       "      <td>245750.179222</td>\n",
       "      <td>1.110223e-16</td>\n",
       "    </tr>\n",
       "  </tbody>\n",
       "</table>\n",
       "</div>"
      ],
      "text/plain": [
       "                      model_train           rmse            r2\n",
       "0                        baseline  245750.179222  0.000000e+00\n",
       "1     ordinary least squared(OLS)  205586.468046  3.001558e-01\n",
       "2                lasso lars(lars)  205586.468066  3.001558e-01\n",
       "3    Polynomial Regression(poly2)  204061.535087  3.104995e-01\n",
       "4  Generalized Linear Model (GLM)  245750.179222  1.110223e-16"
      ]
     },
     "execution_count": 27,
     "metadata": {},
     "output_type": "execute_result"
    }
   ],
   "source": [
    "metrics_train_df"
   ]
  },
  {
   "cell_type": "code",
   "execution_count": 35,
   "id": "772416e1",
   "metadata": {},
   "outputs": [
    {
     "data": {
      "text/html": [
       "<div>\n",
       "<style scoped>\n",
       "    .dataframe tbody tr th:only-of-type {\n",
       "        vertical-align: middle;\n",
       "    }\n",
       "\n",
       "    .dataframe tbody tr th {\n",
       "        vertical-align: top;\n",
       "    }\n",
       "\n",
       "    .dataframe thead th {\n",
       "        text-align: right;\n",
       "    }\n",
       "</style>\n",
       "<table border=\"1\" class=\"dataframe\">\n",
       "  <thead>\n",
       "    <tr style=\"text-align: right;\">\n",
       "      <th></th>\n",
       "      <th>model_validate</th>\n",
       "      <th>rmse</th>\n",
       "      <th>r2</th>\n",
       "    </tr>\n",
       "  </thead>\n",
       "  <tbody>\n",
       "    <tr>\n",
       "      <th>0</th>\n",
       "      <td>baseline</td>\n",
       "      <td>245750.179222</td>\n",
       "      <td>0.000000</td>\n",
       "    </tr>\n",
       "    <tr>\n",
       "      <th>1</th>\n",
       "      <td>ordinary least squared(OLS)</td>\n",
       "      <td>205890.917703</td>\n",
       "      <td>0.281893</td>\n",
       "    </tr>\n",
       "    <tr>\n",
       "      <th>2</th>\n",
       "      <td>lasso lars(lars)</td>\n",
       "      <td>205890.980752</td>\n",
       "      <td>0.281892</td>\n",
       "    </tr>\n",
       "    <tr>\n",
       "      <th>3</th>\n",
       "      <td>Polynomial Regression(poly2)</td>\n",
       "      <td>204238.056746</td>\n",
       "      <td>0.293376</td>\n",
       "    </tr>\n",
       "    <tr>\n",
       "      <th>4</th>\n",
       "      <td>Generalized Linear Model (GLM)</td>\n",
       "      <td>242968.350000</td>\n",
       "      <td>-0.000000</td>\n",
       "    </tr>\n",
       "  </tbody>\n",
       "</table>\n",
       "</div>"
      ],
      "text/plain": [
       "                   model_validate           rmse        r2\n",
       "0                        baseline  245750.179222  0.000000\n",
       "1     ordinary least squared(OLS)  205890.917703  0.281893\n",
       "2                lasso lars(lars)  205890.980752  0.281892\n",
       "3    Polynomial Regression(poly2)  204238.056746  0.293376\n",
       "4  Generalized Linear Model (GLM)  242968.350000 -0.000000"
      ]
     },
     "execution_count": 35,
     "metadata": {},
     "output_type": "execute_result"
    }
   ],
   "source": [
    "metrics_validate_df"
   ]
  },
  {
   "cell_type": "markdown",
   "id": "e59e955e",
   "metadata": {},
   "source": [
    "# Conclusions"
   ]
  },
  {
   "cell_type": "markdown",
   "id": "393e9a0e",
   "metadata": {},
   "source": [
    "## explore recap\n",
    "- calculated finished square feet affect tax value dollar count\n",
    "- bathroom count affect tax value dollar count\n",
    "- bedroom count affect tax value dollar count\n",
    "- year built affect tax value dollar count\n",
    "    - The average of tax value dollar count has went up over the years\n",
    "    - The average of tax value dollar count is higher the more bedrooms a home posseses\n",
    "    - The average of tax value dollar count is higher the more square feet a home posseses\n",
    "    - The average of tax value dollar count is higher bathrooms a home posseses\n"
   ]
  },
  {
   "cell_type": "markdown",
   "id": "ba7fe630",
   "metadata": {},
   "source": [
    "## Modeling Summary\n",
    "- Polynomial Regression performed best\n",
    "    - rmse of 204238 \n",
    "    - r2 score of \n",
    "- lasso lars and ordinary least squared performed second best\n",
    "    - rmse scores of 205586 \n",
    "    - r2 scores of 28\n",
    "- Generalized Linear Model performed worst at\n",
    "    - 242968 rmse\n",
    "    - 0 r2 score"
   ]
  },
  {
   "cell_type": "markdown",
   "id": "67d9ad8d",
   "metadata": {},
   "source": [
    "## Solution"
   ]
  },
  {
   "cell_type": "markdown",
   "id": "e10492c6",
   "metadata": {},
   "source": [
    "- Since the top model only performed 30% at best we cannot move forward with it\n",
    "- The solution would be to continue onto next steps in hopes of creating a better model"
   ]
  },
  {
   "cell_type": "markdown",
   "id": "ebb82740",
   "metadata": {},
   "source": [
    "# next steps"
   ]
  },
  {
   "cell_type": "markdown",
   "id": "9ea68578",
   "metadata": {},
   "source": [
    "- look for more things that affect tax value dollar count\n",
    "- break the catagories up by location subcatagories\n",
    "- imput new columns of information into my modeling tests"
   ]
  }
 ],
 "metadata": {
  "kernelspec": {
   "display_name": "Python 3 (ipykernel)",
   "language": "python",
   "name": "python3"
  },
  "language_info": {
   "codemirror_mode": {
    "name": "ipython",
    "version": 3
   },
   "file_extension": ".py",
   "mimetype": "text/x-python",
   "name": "python",
   "nbconvert_exporter": "python",
   "pygments_lexer": "ipython3",
   "version": "3.9.16"
  }
 },
 "nbformat": 4,
 "nbformat_minor": 5
}
